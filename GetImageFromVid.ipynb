{
 "cells": [
  {
   "cell_type": "code",
   "execution_count": 11,
   "id": "c9a37e26",
   "metadata": {},
   "outputs": [
    {
     "name": "stdout",
     "output_type": "stream",
     "text": [
      "Extracted 385 frames from the video.\n"
     ]
    }
   ],
   "source": [
    "import cv2\n",
    "import os\n",
    "\n",
    "def extract_frames(video_path, output_folder, frame_rate=1, prefix='kiwis'):\n",
    "    # Create the output directory if it doesn't exist\n",
    "    if not os.path.exists(output_folder):\n",
    "        os.makedirs(output_folder)\n",
    "\n",
    "    # Open the video file\n",
    "    video_capture = cv2.VideoCapture(video_path)\n",
    "    success, image = video_capture.read()\n",
    "    count = 0\n",
    "    saved_count = 1  # Start naming frames from 1\n",
    "\n",
    "    while success:\n",
    "        # Save frame as JPEG file\n",
    "        if count % frame_rate == 0:\n",
    "            frame_filename = os.path.join(output_folder, f\"{prefix}{saved_count}.jpg\")\n",
    "            cv2.imwrite(frame_filename, image)\n",
    "            saved_count += 1\n",
    "\n",
    "        # Read next frame\n",
    "        success, image = video_capture.read()\n",
    "        count += 1\n",
    "\n",
    "    video_capture.release()\n",
    "    print(f\"Extracted {saved_count - 1} frames from the video.\")\n",
    "\n",
    "# Example usage:\n",
    "video_path = '/Users/HP/Downloads/WhatsApp Video 2024-07-16 at 16.20.38.mp4'\n",
    "\n",
    "output_folder = '/Users/HP/Documents/UOW/MAY SEM 2024/FYP (PART2)/FYP DATASETS/raw_data/kiwi_VID'\n",
    "extract_frames(video_path, output_folder)"
   ]
  },
  {
   "cell_type": "code",
   "execution_count": null,
   "id": "84105a15",
   "metadata": {},
   "outputs": [],
   "source": []
  }
 ],
 "metadata": {
  "kernelspec": {
   "display_name": "Python 3 (ipykernel)",
   "language": "python",
   "name": "python3"
  },
  "language_info": {
   "codemirror_mode": {
    "name": "ipython",
    "version": 3
   },
   "file_extension": ".py",
   "mimetype": "text/x-python",
   "name": "python",
   "nbconvert_exporter": "python",
   "pygments_lexer": "ipython3",
   "version": "3.11.5"
  }
 },
 "nbformat": 4,
 "nbformat_minor": 5
}
